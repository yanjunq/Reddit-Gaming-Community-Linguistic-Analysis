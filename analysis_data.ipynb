{
 "cells": [
  {
   "cell_type": "code",
   "execution_count": 3,
   "id": "e9d21551-2fd2-4255-8e62-9d239e36276f",
   "metadata": {},
   "outputs": [],
   "source": [
    "import pandas as pd\n",
    "from scipy import stats\n",
    "import matplotlib.pyplot as plt\n",
    "from scipy import stats"
   ]
  },
  {
   "cell_type": "code",
   "execution_count": 5,
   "id": "4e981f72-004f-47f2-963e-fdc888cf53f3",
   "metadata": {},
   "outputs": [],
   "source": [
    "top_submissions = pd.read_csv(\"top_5000_submissions_in_2022.csv\")"
   ]
  },
  {
   "cell_type": "code",
   "execution_count": 7,
   "id": "811a600d-fd12-413b-9e06-de79090bf3a2",
   "metadata": {},
   "outputs": [
    {
     "name": "stdout",
     "output_type": "stream",
     "text": [
      "                                               title   score  num_comments  \\\n",
      "0                               R/MEMES MEME QUIZ #2  447898          3226   \n",
      "1                    Full screenshot of r/place 2022  337908         12639   \n",
      "2  In 1996 Ukraine handed over nuclear weapons to...  323330          7591   \n",
      "3                         he finally got his acorn 🥺  312929          3446   \n",
      "4  Man stops to rescue kitten, gets ambushed by p...  297075          6854   \n",
      "\n",
      "           subreddit  month                                          thumbnail  \n",
      "0              memes     11                                            default  \n",
      "1              place      4  https://a.thumbs.redditmedia.com/aHijlVZZZFTiV...  \n",
      "2  interestingasfuck      3  https://b.thumbs.redditmedia.com/DO5vpJSw2DpIK...  \n",
      "3        MadeMeSmile      4  https://b.thumbs.redditmedia.com/4W7qMOJWgPu3S...  \n",
      "4                aww      6  https://b.thumbs.redditmedia.com/BX4Yq5NT588HP...  \n"
     ]
    }
   ],
   "source": [
    "print(top_submissions.head())"
   ]
  },
  {
   "cell_type": "code",
   "execution_count": null,
   "id": "e3aae441-3f47-4d02-9ca7-54c06a8fc942",
   "metadata": {},
   "outputs": [],
   "source": [
    "# Define the encoding function, 0 to default and self\n",
    "def encode_thumbnail(url):\n",
    "    if url.startswith(\"http\"):\n",
    "        return 1\n",
    "    elif url == \"nsfw\":\n",
    "        return 2\n",
    "    else:\n",
    "        return 0\n",
    "        \n",
    "# Apply the encoding function to the 'thumbnail' column\n",
    "top_submissions['thumbnail_encoded'] = top_submissions['thumbnail'].apply(encode_thumbnail)"
   ]
  },
  {
   "cell_type": "code",
   "execution_count": 16,
   "id": "8ec6cd0d-ac3f-4001-b9f8-dcd6c76691b5",
   "metadata": {},
   "outputs": [
    {
     "name": "stdout",
     "output_type": "stream",
     "text": [
      "['memes' 'place' 'interestingasfuck' 'MadeMeSmile' 'aww' 'oddlysatisfying'\n",
      " 'nextfuckinglevel' 'BeAmazed' 'Damnthatsinteresting' 'TrueOffMyChest'\n",
      " 'wallstreetbets' 'mildlyinfuriating' 'pics' 'therewasanattempt' 'meirl'\n",
      " 'gaming' 'worldnews' 'Unexpected' 'ukraine' 'movies']\n"
     ]
    }
   ],
   "source": [
    "# Get the top 20 subreddits\n",
    "top_reddit = top_submissions['subreddit'].unique()\n",
    "top_sub_reddit = top_reddit[:20]\n",
    "print(top_sub_reddit)"
   ]
  },
  {
   "cell_type": "code",
   "execution_count": 18,
   "id": "0b9c9015-0d2e-4991-9101-8e6ba972cbe2",
   "metadata": {},
   "outputs": [],
   "source": [
    "#show the most frequent subreddits in top 50000\n"
   ]
  },
  {
   "cell_type": "code",
   "execution_count": 20,
   "id": "1c5a4e10-a01b-4787-82b4-ce15f0415a07",
   "metadata": {},
   "outputs": [],
   "source": [
    "#get the title_sentiment, to see wheather there is an relationship between the reddit score andsentiment score\n",
    "#need external liberary to determine its senstive score"
   ]
  },
  {
   "cell_type": "code",
   "execution_count": null,
   "id": "a353d881-8242-448f-9e68-e3dd970065c2",
   "metadata": {},
   "outputs": [],
   "source": [
    "#find out wheather have an relationship between thumbnail"
   ]
  },
  {
   "cell_type": "code",
   "execution_count": null,
   "id": "a7230940-d1b5-4749-a397-8bb7b7e0a3f9",
   "metadata": {},
   "outputs": [],
   "source": [
    "#use ML to predict "
   ]
  }
 ],
 "metadata": {
  "kernelspec": {
   "display_name": "Python 3 (ipykernel)",
   "language": "python",
   "name": "python3"
  },
  "language_info": {
   "codemirror_mode": {
    "name": "ipython",
    "version": 3
   },
   "file_extension": ".py",
   "mimetype": "text/x-python",
   "name": "python",
   "nbconvert_exporter": "python",
   "pygments_lexer": "ipython3",
   "version": "3.12.4"
  }
 },
 "nbformat": 4,
 "nbformat_minor": 5
}
